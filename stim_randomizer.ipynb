{
 "cells": [
  {
   "cell_type": "markdown",
   "metadata": {},
   "source": [
    "Stimulation presentation order csv file for use with the LZ correlation experiment with Psychopy.\n",
    "\n",
    "Outputs CSV files with a randomized structure for stimulus presentation.\n",
    "\n",
    "Uses rank in a loaded list for randomization. Randomization conditions used \n",
    "-> No repeat in simultaneous trial\n",
    "\n",
    "Keys used for the forced choice task are A,Z,K,M.  A for Top-Left , Z for Bottom Left , K for Top right , M for Bottom Right.\n",
    "\n",
    "\n",
    "Condition field contains a comination of frequency of stimulation and tyoe of stimulus encoded into one. eg: 11 for Natural at 1 hz\n",
    "\n"
   ]
  },
  {
   "cell_type": "code",
   "execution_count": 12,
   "metadata": {},
   "outputs": [],
   "source": [
    "# Initiallization \n",
    "\n",
    "import os\n",
    "import glob\n",
    "from PIL import Image\n",
    "import imageio\n",
    "import random\n",
    "import numpy as np\n",
    "import copy\n",
    "from pathlib import Path\n",
    "\n",
    "# Storage array for stimulus paths\n",
    "stim_present_data = np.zeros((180,11),dtype = 'U240')\n",
    "\n",
    "# Edited to produce only one file. \n",
    "#stim_choice_data = np.zeros((180,5),dtype = 'U240')\n"
   ]
  },
  {
   "cell_type": "code",
   "execution_count": 13,
   "metadata": {},
   "outputs": [],
   "source": [
    "# Run this section before execution to ensure limits and lists are properly set and loaded respectively\n",
    "\n",
    "# Loading file with specified criteria using Glob. Path included in criteria. Three paths used due to three sets of stimuli to be used. Make sure the filepath does not have any spaces in them for final.\n",
    "\n",
    "stim_list_natural = [f for f in glob.glob(r'LZ_natural/*.jpg')]\n",
    "stim_list_scrambled = [f for f in glob.glob(r'LZ_scrambled/*.jpg')]\n",
    "stim_list_noise = [f for f in glob.glob(r'LZ_noise/*.jpg')]\n",
    "\n",
    "\n",
    "# Shuffling the lists for randomised order. Initial shuffle. \n",
    "random.shuffle(stim_list_natural)\n",
    "random.shuffle(stim_list_scrambled)\n",
    "random.shuffle(stim_list_natural)\n",
    "\n",
    "loop_len_natural = range(len(stim_list_natural))\n",
    "loop_len_scrambled = range(len(stim_list_scrambled))\n",
    "loop_len_noise = range(len(stim_list_noise))\n",
    "\n",
    "# Number of blocks \n",
    "block_count = 4 \n",
    "\n",
    "# Global limits for each condition variable for the entire experiment. Both type of stimuli and presentation frequency of stimuli. (3x4 experimental design). Limits set to ensure equal distribution across blocks. \n",
    "limit_natural = 240\n",
    "limit_scrambled = 240\n",
    "limit_noise = 240\n",
    "limit_onehz = 180\n",
    "limit_twohz = 180\n",
    "limit_threehz = 180\n",
    "limit_fourhz = 180\n",
    "\n",
    "\n",
    "# Number of trials per block. \n",
    "trial_len = 180\n",
    "\n"
   ]
  },
  {
   "cell_type": "code",
   "execution_count": 14,
   "metadata": {
    "tags": [
     "LZ"
    ]
   },
   "outputs": [
    {
     "name": "stdout",
     "output_type": "stream",
     "text": [
      "one block done\n",
      "one block done\n",
      "one block done\n",
      "one block done\n"
     ]
    }
   ],
   "source": [
    "#Recursive loops to create the file structure\n",
    "\n",
    "# Block structure control. \n",
    "\n",
    "for i in range(block_count):\n",
    "    \n",
    "    # Dynamically allocate limits for each stimulus type based on number of blocks \n",
    "    block_limit_natural = limit_natural / block_count\n",
    "    block_limit_scrambled = limit_scrambled / block_count\n",
    "    block_limit_noise = limit_noise / block_count\n",
    "    block_limit_onehz = limit_onehz / block_count\n",
    "    block_limit_twohz = limit_twohz / block_count\n",
    "    block_limit_threehz = limit_threehz / block_count\n",
    "    block_limit_fourhz = limit_fourhz / block_count\n",
    "    \n",
    "    # Reset randomised set each time to for stimulus selction through list popping. Pulled is shuffles everytime for a block.\n",
    "    stim_list_natural_copy = copy.deepcopy(stim_list_natural)\n",
    "    stim_list_scrambled_copy = copy.deepcopy(stim_list_scrambled)\n",
    "    stim_list_noise_copy = copy.deepcopy(stim_list_noise)\n",
    "    \n",
    "    random.shuffle(stim_list_natural_copy)\n",
    "    random.shuffle(stim_list_scrambled_copy)\n",
    "    random.shuffle(stim_list_noise_copy)\n",
    "    \n",
    "    \n",
    "    \n",
    "    # Control varible for each trial in a single block.\n",
    "    x = 0\n",
    "    \n",
    "    while x < 180:\n",
    "        # Main loop to decide to type of stimulus. 1- Natural , 2- Scrambled and 3- Noise. Laddered structure baseed on choice\n",
    "        stim_type_choice = random.choice([1,2,3])\n",
    "\n",
    "        if stim_type_choice == 1 and block_limit_natural != 0: \n",
    "            # Natural images block\n",
    "\n",
    "            block_limit_natural = block_limit_natural - 1\n",
    "            # Stimulus Presentation section\n",
    "\n",
    "            # Image selection for RSVP stream\n",
    "            stim_present_data[x,0] = stim_list_natural_copy.pop(0)\n",
    "            stim_present_data[x,1] = stim_list_natural_copy.pop(0)\n",
    "            stim_present_data[x,2] = stim_list_natural_copy.pop(0)\n",
    "            stim_present_data[x,3] = stim_list_natural_copy.pop(0)\n",
    "\n",
    "            # Frequnecy of stimuli presentation choice . To be implemented. \n",
    "            frequency_choice = random.choice([1,2,3,4])\n",
    "\n",
    "            # Emergency break condition\n",
    "            break_limit = 0 \n",
    "\n",
    "            while break_limit == 0: \n",
    "                if frequency_choice == 1: \n",
    "                    # Check if limit is reached\n",
    "                    if block_limit_onehz == 0: \n",
    "                        continue\n",
    "                    else:\n",
    "                        stim_present_data[x,4] = 1\n",
    "                        break\n",
    "\n",
    "                elif frequency_choice == 2:\n",
    "                    # Check if limit is reached\n",
    "                    if block_limit_twohz == 0: \n",
    "                        continue\n",
    "                    else:\n",
    "                        stim_present_data[x,4] = 2\n",
    "                        break\n",
    "\n",
    "                elif frequency_choice == 3:\n",
    "                    # Check if limit is reached\n",
    "                    if block_limit_threehz == 0: \n",
    "                        continue\n",
    "                    else:\n",
    "                        stim_present_data[x,4] = 3\n",
    "                        break\n",
    "                elif frequency_choice == 4:\n",
    "                    # Check if limit is reached\n",
    "                    if block_limit_fourhz == 0: \n",
    "                        continue\n",
    "                    else:\n",
    "                        stim_present_data[x,4] = 4\n",
    "                        break\n",
    "\n",
    "\n",
    "            # Forced choice section\n",
    "\n",
    "            # Select one image from the displayed visual stream. Also tagged as the correct option, with location of the answer. 1- A ,Top Left , 2 - Z, Bottom Left , 3 - K, Top right and 4 - Bottom right   \n",
    "\n",
    "            correct_answer = random.choice([1,2,3,4])\n",
    "\n",
    "            if correct_answer == 1:\n",
    "                stim_present_data[x,5] = stim_present_data[x,0]\n",
    "                stim_present_data[x,6] = random.choice(stim_list_natural)\n",
    "                stim_present_data[x,7] = random.choice(stim_list_natural)\n",
    "                stim_present_data[x,8] = random.choice(stim_list_natural)\n",
    "                stim_present_data[x,9] = 'a'\n",
    "\n",
    "\n",
    "            elif correct_answer == 2:\n",
    "                stim_present_data[x,5] = random.choice(stim_list_natural)\n",
    "                stim_present_data[x,6] = stim_present_data[x,1]\n",
    "                stim_present_data[x,7] = random.choice(stim_list_natural)\n",
    "                stim_present_data[x,8] = random.choice(stim_list_natural)\n",
    "                stim_present_data[x,9] = 'z'\n",
    "\n",
    "            elif correct_answer == 3:\n",
    "                stim_present_data[x,5] = random.choice(stim_list_natural)\n",
    "                stim_present_data[x,6] = random.choice(stim_list_natural)\n",
    "                stim_present_data[x,7] = stim_present_data[x,2]\n",
    "                stim_present_data[x,8] = random.choice(stim_list_natural)\n",
    "                stim_present_data[x,9] = 'k'\n",
    "\n",
    "            elif correct_answer == 4:\n",
    "                stim_present_data[x,5] = random.choice(stim_list_natural)\n",
    "                stim_present_data[x,6] = random.choice(stim_list_natural)\n",
    "                stim_present_data[x,7] = random.choice(stim_list_natural)\n",
    "                stim_present_data[x,8] = stim_present_data[x,3]\n",
    "                stim_present_data[x,9] = 'm'\n",
    "\n",
    "\n",
    "        elif stim_type_choice == 2 and block_limit_scrambled != 0: \n",
    "        # Scrambled images block \n",
    "\n",
    "            block_limit_scrambled = block_limit_scrambled - 1\n",
    "\n",
    "            # Stimulus Presentation section\n",
    "\n",
    "            # Image selection for RSVP stream\n",
    "            stim_present_data[x,0] = stim_list_scrambled_copy.pop(0)\n",
    "            stim_present_data[x,1] = stim_list_scrambled_copy.pop(0)\n",
    "            stim_present_data[x,2] = stim_list_scrambled_copy.pop(0)\n",
    "            stim_present_data[x,3] = stim_list_scrambled_copy.pop(0)\n",
    "\n",
    "            # Frequnecy of stimuli presentation choice . To be implemented. \n",
    "            frequency_choice = random.choice([1,2,3,4])\n",
    "\n",
    "            # Emergency break condition\n",
    "            break_limit = 0 \n",
    "\n",
    "            while break_limit == 0: \n",
    "                if frequency_choice == 1: \n",
    "                    # Check if limit is reached\n",
    "                    if block_limit_onehz == 0: \n",
    "                        continue\n",
    "                    else:\n",
    "                        stim_present_data[x,4] = 1\n",
    "                        break\n",
    "\n",
    "                elif frequency_choice == 2:\n",
    "                    # Check if limit is reached\n",
    "                    if block_limit_twohz == 0: \n",
    "                        continue\n",
    "                    else:\n",
    "                        stim_present_data[x,4] = 2\n",
    "                        break\n",
    "\n",
    "                elif frequency_choice == 3:\n",
    "                    # Check if limit is reached\n",
    "                    if block_limit_threehz == 0: \n",
    "                        continue\n",
    "                    else:\n",
    "                        stim_present_data[x,4] = 3\n",
    "                        break\n",
    "                elif frequency_choice == 4:\n",
    "                    # Check if limit is reached\n",
    "                    if block_limit_fourhz == 0: \n",
    "                        continue\n",
    "                    else:\n",
    "                        stim_present_data[x,4] = 4\n",
    "                        break\n",
    "\n",
    "\n",
    "            # Forced choice section\n",
    "\n",
    "            # Select one image from the displayed visual stream. Also tagged as the correct option, with location of the answer. 1- A ,Top Left , 2 - Z, Bottom Left , 3 - K, Top right and 4 - Bottom right   \n",
    "\n",
    "            correct_answer = random.choice([1,2,3,4])\n",
    "\n",
    "            if correct_answer == 1:\n",
    "                stim_present_data[x,5] = stim_present_data[x,0]\n",
    "                stim_present_data[x,6] = random.choice(stim_list_scrambled)\n",
    "                stim_present_data[x,7] = random.choice(stim_list_scrambled)\n",
    "                stim_present_data[x,8] = random.choice(stim_list_scrambled)\n",
    "                stim_present_data[x,9] = 'a'\n",
    "\n",
    "\n",
    "            elif correct_answer == 2:\n",
    "                stim_present_data[x,5] = random.choice(stim_list_scrambled)\n",
    "                stim_present_data[x,6] = stim_present_data[x,1]\n",
    "                stim_present_data[x,7] = random.choice(stim_list_scrambled)\n",
    "                stim_present_data[x,8] = random.choice(stim_list_scrambled)\n",
    "                stim_present_data[x,9] = 'z'\n",
    "\n",
    "            elif correct_answer == 3:\n",
    "                stim_present_data[x,5] = random.choice(stim_list_scrambled)\n",
    "                stim_present_data[x,6] = random.choice(stim_list_scrambled)\n",
    "                stim_present_data[x,7] = stim_present_data[x,2]\n",
    "                stim_present_data[x,8] = random.choice(stim_list_scrambled)\n",
    "                stim_present_data[x,9] = 'k'\n",
    "\n",
    "            elif correct_answer == 4:\n",
    "                stim_present_data[x,5] = random.choice(stim_list_scrambled)\n",
    "                stim_present_data[x,6] = random.choice(stim_list_scrambled)\n",
    "                stim_present_data[x,7] = random.choice(stim_list_scrambled)\n",
    "                stim_present_data[x,8] = stim_present_data[x,3]\n",
    "                stim_present_data[x,9] = 'm'\n",
    "\n",
    "\n",
    "        elif stim_type_choice == 3 and block_limit_noise != 0:\n",
    "        # Visual Noise images block\n",
    "\n",
    "            block_limit_noise = block_limit_noise - 1 \n",
    "\n",
    "            # Stimulus Presentation section\n",
    "\n",
    "            # Image selection for RSVP stream\n",
    "            stim_present_data[x,0] = stim_list_noise_copy.pop(0)\n",
    "            stim_present_data[x,1] = stim_list_noise_copy.pop(0)\n",
    "            stim_present_data[x,2] = stim_list_noise_copy.pop(0)\n",
    "            stim_present_data[x,3] = stim_list_noise_copy.pop(0)\n",
    "\n",
    "            # Frequnecy of stimuli presentation choice . To be implemented. \n",
    "            frequency_choice = random.choice([1,2,3,4])\n",
    "\n",
    "            # Emergency break condition\n",
    "            break_limit = 0 \n",
    "\n",
    "            while break_limit == 0: \n",
    "                if frequency_choice == 1: \n",
    "                    # Check if limit is reached\n",
    "                    if block_limit_onehz == 0: \n",
    "                        continue\n",
    "                    else:\n",
    "                        stim_present_data[x,4] = 1\n",
    "                        break\n",
    "\n",
    "                elif frequency_choice == 2:\n",
    "                    # Check if limit is reached\n",
    "                    if block_limit_twohz == 0: \n",
    "                        continue\n",
    "                    else:\n",
    "                        stim_present_data[x,4] = 2\n",
    "                        break\n",
    "\n",
    "                elif frequency_choice == 3:\n",
    "                    # Check if limit is reached\n",
    "                    if block_limit_threehz == 0: \n",
    "                        continue\n",
    "                    else:\n",
    "                        stim_present_data[x,4] = 3\n",
    "                        break\n",
    "                elif frequency_choice == 4:\n",
    "                    # Check if limit is reached\n",
    "                    if block_limit_fourhz == 0: \n",
    "                        continue\n",
    "                    else:\n",
    "                        stim_present_data[x,4] = 4\n",
    "                        break\n",
    "\n",
    "\n",
    "            # Forced choice section\n",
    "\n",
    "            # Select one image from the displayed visual stream. Also tagged as the correct option, with location of the answer. 1- A ,Top Left , 2 - Z, Bottom Left , 3 - K, Top right and 4 - Bottom right   \n",
    "\n",
    "            correct_answer = random.choice([1,2,3,4])\n",
    "\n",
    "            if correct_answer == 1:\n",
    "                stim_present_data[x,5] = stim_present_data[x,0]\n",
    "                stim_present_data[x,6] = random.choice(stim_list_noise)\n",
    "                stim_present_data[x,7] = random.choice(stim_list_noise)\n",
    "                stim_present_data[x,8] = random.choice(stim_list_noise)\n",
    "                stim_present_data[x,9] = 'a'\n",
    "\n",
    "\n",
    "            elif correct_answer == 2:\n",
    "                stim_present_data[x,5] = random.choice(stim_list_noise)\n",
    "                stim_present_data[x,6] = stim_present_data[x,1]\n",
    "                stim_present_data[x,7] = random.choice(stim_list_noise)\n",
    "                stim_present_data[x,8] = random.choice(stim_list_noise)\n",
    "                stim_present_data[x,9] = 'z'\n",
    "\n",
    "            elif correct_answer == 3:\n",
    "                stim_present_data[x,5] = random.choice(stim_list_noise)\n",
    "                stim_present_data[x,6] = random.choice(stim_list_noise)\n",
    "                stim_present_data[x,7] = stim_present_data[x,2]\n",
    "                stim_present_data[x,8] = random.choice(stim_list_noise)\n",
    "                stim_present_data[x,9] = 'k'\n",
    "\n",
    "            elif correct_answer == 4:\n",
    "                stim_present_data[x,5] = random.choice(stim_list_noise)\n",
    "                stim_present_data[x,6] = random.choice(stim_list_noise)\n",
    "                stim_present_data[x,7] = random.choice(stim_list_noise)\n",
    "                stim_present_data[x,8] = stim_present_data[x,3]\n",
    "                stim_present_data[x,9] = 'm' \n",
    "\n",
    "\n",
    "        else:\n",
    "            continue\n",
    "\n",
    "           \n",
    "        # Setting frequency condition for parllel port out to EEG recording\n",
    "        # Using a combination of stimulus type and frequency of presentation into one\n",
    "        \n",
    "        condition_code = '%i%i' %(stim_type_choice,frequency_choice)\n",
    "        stim_present_data[x,10] = condition_code\n",
    "        \n",
    "        # Loop incrementor \n",
    "        x = x + 1\n",
    "    \n",
    "    # Checking to make sure the trial struture works\n",
    "    print('one block done')\n",
    "    # Saving generated stimulus files. Filesnames set according to blocknumber\n",
    "    presentation_filename = 'stim_present_data_block_%s.csv' % (i+1)\n",
    "    #choice_filename = 'stim_choice_data_block_%s.csv' % (i+1)\n",
    "    \n",
    "    \n",
    "    \n",
    "    print\n",
    "    np.savetxt(presentation_filename, stim_present_data, header = \"imageone,imagetwo,imagethree,imagefour,frequency,imageTL,imageBL,imageTR,imageBR,correct_answer,condition_code\" ,fmt='%5s', delimiter =',', comments='') \n",
    "    #np.savetxt(choice_filename, stim_choice_data, header = \"imageTL,imageBL,imageTR,imageBR,correct_answer\" ,fmt='%5s', delimiter =', ', comments='') \n",
    "    \n",
    "    "
   ]
  },
  {
   "cell_type": "raw",
   "metadata": {},
   "source": [
    "Scratch code below this point"
   ]
  },
  {
   "cell_type": "code",
   "execution_count": 4,
   "metadata": {},
   "outputs": [
    {
     "name": "stdout",
     "output_type": "stream",
     "text": [
      "[['LZ_noise\\\\LZ_noise_135.jpg' 'LZ_noise\\\\LZ_noise_99.jpg'\n",
      "  'LZ_noise\\\\LZ_noise_10.jpg' ... 'LZ_noise\\\\LZ_noise_141.jpg' 'a' '']\n",
      " ['LZ_natural\\\\LZ_natural_78.jpg' 'LZ_natural\\\\LZ_natural_213.jpg'\n",
      "  'LZ_natural\\\\LZ_natural_161.jpg' ... 'LZ_natural\\\\LZ_natural_37.jpg'\n",
      "  'm' '']\n",
      " ['LZ_scrambled\\\\LZ_scrambled_229.jpg'\n",
      "  'LZ_scrambled\\\\LZ_scrambled_52.jpg' 'LZ_scrambled\\\\LZ_scrambled_17.jpg'\n",
      "  ... 'LZ_scrambled\\\\LZ_scrambled_223.jpg' 'a' '']\n",
      " ...\n",
      " ['LZ_noise\\\\LZ_noise_69.jpg' 'LZ_noise\\\\LZ_noise_117.jpg'\n",
      "  'LZ_noise\\\\LZ_noise_101.jpg' ... 'LZ_noise\\\\LZ_noise_180.jpg' 'k' '']\n",
      " ['LZ_natural\\\\LZ_natural_38.jpg' 'LZ_natural\\\\LZ_natural_165.jpg'\n",
      "  'LZ_natural\\\\LZ_natural_231.jpg' ... 'LZ_natural\\\\LZ_natural_74.jpg'\n",
      "  'k' '']\n",
      " ['LZ_natural\\\\LZ_natural_171.jpg' 'LZ_natural\\\\LZ_natural_41.jpg'\n",
      "  'LZ_natural\\\\LZ_natural_123.jpg' ... 'LZ_natural\\\\LZ_natural_45.jpg'\n",
      "  'z' '']]\n"
     ]
    }
   ],
   "source": [
    "#stim_present_data [1,1] = random.choice(stim_list_natural)\n",
    "#stim_present_data\n",
    "#print(stim_list_natural)\n",
    "\n",
    "#correct_answer = random.choice(['a','z','k','m'])\n",
    "#print(correct_answer)\n",
    "\n",
    "#print(len(stim_list_natural))\n",
    "\n",
    "print(stim_present_data)\n",
    "#print('Divide')\n",
    "#print(stim_choice_data)"
   ]
  },
  {
   "cell_type": "code",
   "execution_count": 50,
   "metadata": {},
   "outputs": [
    {
     "name": "stdout",
     "output_type": "stream",
     "text": [
      "60\n",
      "60\n",
      "0\n"
     ]
    }
   ],
   "source": [
    "#print(stim_list_noise)\n",
    "print(block_limit_noise)\n",
    "print(block_limit_scrambled)\n",
    "print(block_limit_natural)"
   ]
  },
  {
   "cell_type": "code",
   "execution_count": 41,
   "metadata": {},
   "outputs": [
    {
     "name": "stdout",
     "output_type": "stream",
     "text": [
      "['C:\\\\Users\\\\Ram\\\\OneDrive - University of Sussex\\\\Desktop\\\\LZ correlation\\\\LZ_correlation\\\\natural\\\\natural_227.jpg', 'C:\\\\Users\\\\Ram\\\\OneDrive - University of Sussex\\\\Desktop\\\\LZ correlation\\\\LZ_correlation\\\\natural\\\\natural_97.jpg', 'C:\\\\Users\\\\Ram\\\\OneDrive - University of Sussex\\\\Desktop\\\\LZ correlation\\\\LZ_correlation\\\\natural\\\\natural_96.jpg', 'C:\\\\Users\\\\Ram\\\\OneDrive - University of Sussex\\\\Desktop\\\\LZ correlation\\\\LZ_correlation\\\\natural\\\\natural_228.jpg', 'C:\\\\Users\\\\Ram\\\\OneDrive - University of Sussex\\\\Desktop\\\\LZ correlation\\\\LZ_correlation\\\\natural\\\\natural_137.jpg', 'C:\\\\Users\\\\Ram\\\\OneDrive - University of Sussex\\\\Desktop\\\\LZ correlation\\\\LZ_correlation\\\\natural\\\\natural_103.jpg', 'C:\\\\Users\\\\Ram\\\\OneDrive - University of Sussex\\\\Desktop\\\\LZ correlation\\\\LZ_correlation\\\\natural\\\\natural_9.jpg', 'C:\\\\Users\\\\Ram\\\\OneDrive - University of Sussex\\\\Desktop\\\\LZ correlation\\\\LZ_correlation\\\\natural\\\\natural_152.jpg', 'C:\\\\Users\\\\Ram\\\\OneDrive - University of Sussex\\\\Desktop\\\\LZ correlation\\\\LZ_correlation\\\\natural\\\\natural_186.jpg', 'C:\\\\Users\\\\Ram\\\\OneDrive - University of Sussex\\\\Desktop\\\\LZ correlation\\\\LZ_correlation\\\\natural\\\\natural_225.jpg', 'C:\\\\Users\\\\Ram\\\\OneDrive - University of Sussex\\\\Desktop\\\\LZ correlation\\\\LZ_correlation\\\\natural\\\\natural_107.jpg', 'C:\\\\Users\\\\Ram\\\\OneDrive - University of Sussex\\\\Desktop\\\\LZ correlation\\\\LZ_correlation\\\\natural\\\\natural_81.jpg']\n",
      "[]\n"
     ]
    }
   ],
   "source": [
    "print(stim_list_natural_copy) #= copy.deepcopy(stim_list_natural)\n",
    "print(stim_list_scrambled_copy) #= copy.deepcopy(stim_list_scrambled)\n",
    "#stim_list_noise_copy #= copy.deepcopy(stim_list_noise)"
   ]
  },
  {
   "cell_type": "code",
   "execution_count": 42,
   "metadata": {},
   "outputs": [],
   "source": [
    "\n",
    "stim_list_natural_copy = copy.deepcopy(stim_list_natural)\n",
    "stim_list_scrambled_copy = copy.deepcopy(stim_list_scrambled)\n",
    "stim_list_noise_copy = copy.deepcopy(stim_list_noise)"
   ]
  },
  {
   "cell_type": "code",
   "execution_count": 49,
   "metadata": {},
   "outputs": [
    {
     "name": "stdout",
     "output_type": "stream",
     "text": [
      "0\n"
     ]
    }
   ],
   "source": [
    "print(len(stim_list_scrambled_copy))"
   ]
  },
  {
   "cell_type": "code",
   "execution_count": 15,
   "metadata": {},
   "outputs": [],
   "source": [
    "stim_list_natural = [f for f in glob.glob(r\"C:\\LZ\\LZ_natural\\*.*\")]\n",
    "#stim_list_scrambled = [f for f in glob.glob(r\"C:\\LZ\\LZ_scrambled\\*.*\")]\n",
    "#stim_list_noise = [f for f in glob.glob(r\"C:\\LZ\\LZ_noise\\*.*\")]\n",
    " \n",
    "test_list = sorted(Path('.').glob('LZ_natural/*.jpg'))\n"
   ]
  },
  {
   "cell_type": "code",
   "execution_count": 26,
   "metadata": {},
   "outputs": [
    {
     "name": "stdout",
     "output_type": "stream",
     "text": [
      "[['LZ_natural\\\\LZ_natural_216.jpg' 'LZ_natural\\\\LZ_natural_9.jpg'\n",
      "  'LZ_natural\\\\LZ_natural_201.jpg' ... 'LZ_natural\\\\LZ_natural_120.jpg'\n",
      "  'LZ_natural\\\\LZ_natural_193.jpg' 'z']\n",
      " ['LZ_noise\\\\LZ_noise_85.jpg' 'LZ_noise\\\\LZ_noise_77.jpg'\n",
      "  'LZ_noise\\\\LZ_noise_232.jpg' ... 'LZ_noise\\\\LZ_noise_27.jpg'\n",
      "  'LZ_noise\\\\LZ_noise_87.jpg' 'm']\n",
      " ['LZ_noise\\\\LZ_noise_174.jpg' 'LZ_noise\\\\LZ_noise_117.jpg'\n",
      "  'LZ_noise\\\\LZ_noise_3.jpg' ... 'LZ_noise\\\\LZ_noise_72.jpg'\n",
      "  'LZ_noise\\\\LZ_noise_72.jpg' 'm']\n",
      " ...\n",
      " ['LZ_natural\\\\LZ_natural_25.jpg' 'LZ_natural\\\\LZ_natural_210.jpg'\n",
      "  'LZ_natural\\\\LZ_natural_139.jpg' ... 'LZ_natural\\\\LZ_natural_27.jpg'\n",
      "  'LZ_natural\\\\LZ_natural_21.jpg' 'z']\n",
      " ['LZ_natural\\\\LZ_natural_63.jpg' 'LZ_natural\\\\LZ_natural_98.jpg'\n",
      "  'LZ_natural\\\\LZ_natural_193.jpg' ... 'LZ_natural\\\\LZ_natural_123.jpg'\n",
      "  'LZ_natural\\\\LZ_natural_45.jpg' 'm']\n",
      " ['LZ_natural\\\\LZ_natural_39.jpg' 'LZ_natural\\\\LZ_natural_183.jpg'\n",
      "  'LZ_natural\\\\LZ_natural_222.jpg' ... 'LZ_natural\\\\LZ_natural_89.jpg'\n",
      "  'LZ_natural\\\\LZ_natural_101.jpg' 'z']]\n"
     ]
    }
   ],
   "source": [
    "print(stim_present_data)"
   ]
  },
  {
   "cell_type": "code",
   "execution_count": 6,
   "metadata": {},
   "outputs": [
    {
     "data": {
      "text/plain": [
       "<generator object Path.glob at 0x0000019EE1B77648>"
      ]
     },
     "execution_count": 6,
     "metadata": {},
     "output_type": "execute_result"
    }
   ],
   "source": [
    "test_list\n"
   ]
  },
  {
   "cell_type": "code",
   "execution_count": 9,
   "metadata": {},
   "outputs": [],
   "source": [
    "stim_present_data = map(str.strip, stim_present_data)"
   ]
  },
  {
   "cell_type": "code",
   "execution_count": 5,
   "metadata": {},
   "outputs": [
    {
     "name": "stdout",
     "output_type": "stream",
     "text": [
      "180\n"
     ]
    }
   ],
   "source": [
    "print(len(stim_present_data))\n"
   ]
  },
  {
   "cell_type": "code",
   "execution_count": 11,
   "metadata": {},
   "outputs": [
    {
     "data": {
      "text/plain": [
       "str"
      ]
     },
     "execution_count": 11,
     "metadata": {},
     "output_type": "execute_result"
    }
   ],
   "source": [
    "#Vibe check corner \n",
    "type(condition_code)"
   ]
  },
  {
   "cell_type": "code",
   "execution_count": 10,
   "metadata": {},
   "outputs": [
    {
     "name": "stdout",
     "output_type": "stream",
     "text": [
      "1\n",
      "3\n",
      "13\n"
     ]
    }
   ],
   "source": [
    "condition_code = '%i%i' %(stim_type_choice,frequency_choice)\n",
    "print(stim_type_choice)\n",
    "print(frequency_choice)\n",
    "print(condition_code)"
   ]
  },
  {
   "cell_type": "code",
   "execution_count": null,
   "metadata": {},
   "outputs": [],
   "source": []
  }
 ],
 "metadata": {
  "kernelspec": {
   "display_name": "Python 3",
   "language": "python",
   "name": "python3"
  },
  "language_info": {
   "codemirror_mode": {
    "name": "ipython",
    "version": 3
   },
   "file_extension": ".py",
   "mimetype": "text/x-python",
   "name": "python",
   "nbconvert_exporter": "python",
   "pygments_lexer": "ipython3",
   "version": "3.7.9"
  }
 },
 "nbformat": 4,
 "nbformat_minor": 4
}
