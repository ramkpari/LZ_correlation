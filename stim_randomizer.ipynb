{
 "cells": [
  {
   "cell_type": "markdown",
   "metadata": {},
   "source": [
    "Stimulation presentation order csv file for ujse with the LZ correlation experiment with Psychopy.\n",
    "\n",
    "Outputs CSV files with a randomized structure for stimulus presentation.\n",
    "\n",
    "Uses rank in a loaded list for randomization. Randomization conditions used \n",
    "-> No repeat in simultaneous trial"
   ]
  },
  {
   "cell_type": "code",
   "execution_count": 4,
   "metadata": {},
   "outputs": [],
   "source": [
    "# Initiallization \n",
    "\n",
    "import os\n",
    "import glob\n",
    "from PIL import Image\n",
    "import imageio\n",
    "import random"
   ]
  },
  {
   "cell_type": "code",
   "execution_count": 2,
   "metadata": {},
   "outputs": [],
   "source": [
    "# Loading file with specified criteria using Glob. Path included in criteria. Three paths used due to three sets of stimuli to be used.\n",
    "\n",
    "stim_list_natural = [f for f in glob.glob(r\"C:\\Users\\Ram\\OneDrive - University of Sussex\\Desktop\\LZ correlation\\LZ_correlation\\natural\\*.*\")]\n",
    "stim_list_fourier = [f for f in glob.glob(r\"C:\\Users\\Ram\\OneDrive - University of Sussex\\Desktop\\LZ correlation\\LZ_correlation\\final_scrambled\\*.*\")]\n",
    "stim_list_noise = [f for f in glob.glob(r\"C:\\Users\\Ram\\OneDrive - University of Sussex\\Desktop\\LZ correlation\\LZ_correlation\\noise\\*.*\")]\n",
    "#print(mylist)\n",
    "\n",
    "loop_len_natural = range(len(stim_list_natural))\n",
    "loop_len_fourier = range(len(stim_list_fourier))\n",
    "loop_len_noise = range(len(stim_list_noise))\n",
    "\n",
    "#Sanity checks\n",
    "#print(len(stim_list_noise))\n",
    "\n",
    "# File path for CSV file output\n",
    "final_filepath = r\"C:\\Users\\Ram\\OneDrive - University of Sussex\\Desktop\\LZ correlation\\LZ_correlation\""
   ]
  },
  {
   "cell_type": "code",
   "execution_count": 11,
   "metadata": {},
   "outputs": [
    {
     "name": "stdout",
     "output_type": "stream",
     "text": [
      "C:\\Users\\Ram\\OneDrive - University of Sussex\\Desktop\\LZ correlation\\LZ_correlation\\natural\\natural_146.jpg\n"
     ]
    }
   ],
   "source": [
    "#Scratch\n",
    "\n",
    "test = random.choice(stim_list_natural)\n",
    "print(test)"
   ]
  },
  {
   "cell_type": "code",
   "execution_count": 9,
   "metadata": {},
   "outputs": [
    {
     "ename": "SyntaxError",
     "evalue": "unexpected EOF while parsing (<ipython-input-9-2fac867bd1f8>, line 3)",
     "output_type": "error",
     "traceback": [
      "\u001b[1;36m  File \u001b[1;32m\"<ipython-input-9-2fac867bd1f8>\"\u001b[1;36m, line \u001b[1;32m3\u001b[0m\n\u001b[1;33m    for x in loop_len:\u001b[0m\n\u001b[1;37m                      ^\u001b[0m\n\u001b[1;31mSyntaxError\u001b[0m\u001b[1;31m:\u001b[0m unexpected EOF while parsing\n"
     ]
    }
   ],
   "source": [
    "#Recursive loops to create the file structure\n",
    "\n",
    "for x in loop_len:"
   ]
  },
  {
   "cell_type": "code",
   "execution_count": null,
   "metadata": {},
   "outputs": [],
   "source": []
  }
 ],
 "metadata": {
  "kernelspec": {
   "display_name": "Python 3",
   "language": "python",
   "name": "python3"
  },
  "language_info": {
   "codemirror_mode": {
    "name": "ipython",
    "version": 3
   },
   "file_extension": ".py",
   "mimetype": "text/x-python",
   "name": "python",
   "nbconvert_exporter": "python",
   "pygments_lexer": "ipython3",
   "version": "3.7.9"
  }
 },
 "nbformat": 4,
 "nbformat_minor": 4
}
