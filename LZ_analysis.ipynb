{
 "cells": [
  {
   "cell_type": "markdown",
   "metadata": {},
   "source": [
    "## Lempel - Ziv complexity analysis \n",
    "\n",
    "\n",
    "Based on Schartner(2017) code. Calcuates LZs , LZc and Power spectral density based on the definitions from the 2017 paper. Uses MNE python for eeg data operations and minor changes to the original script prrovided by Schartner (2017). Input data uses Epoched EEGLAB .set files. \n",
    "\n",
    "Script adapted for the LZ correaltion experiment and to work with epoched data.\n",
    "\n"
   ]
  },
  {
   "cell_type": "code",
   "execution_count": 1,
   "metadata": {},
   "outputs": [],
   "source": [
    "import mne\n",
    "import LZ_Spectral_edited as fl\n",
    "import numpy as np\n",
    "\n",
    "\n",
    "from scipy import signal\n",
    "from scipy.signal import (butter,lfilter,hilbert,resample)\n",
    "from matplotlib.pylab import *\n",
    "import os as os\n",
    "\n",
    "# Channel selection for LZs and PSpec. OZ selected for best effect due to photic stim\n",
    "channel = 31\n",
    "\n",
    "# subject number\n",
    "subject_number = ['1','2']\n",
    "#subject_number = ['01','02','03','04','05','06','07','08','10','12','13','14','15','16','17','18','19','21','22','23']\n",
    "subject_length = len(subject_number)\n",
    "#Different Conditions \n",
    "condition = [11,12,13,21,22,23,31,32,33]\n",
    "condition_length = len(condition)\n",
    "\n",
    "\n",
    "LZS_data= np.zeros(len(condition))\n",
    "LZC_data= np.zeros(len(condition))\n",
    "#pspec_data = np.zeros([len(condition) + 1,5])\n",
    "pspec_data = np.zeros(4)\n",
    "\n",
    "array_len = (subject_length * condition_length)\n",
    "\n",
    "\n",
    "data = np.zeros((array_len,5)) \n",
    "\n",
    "\n",
    "def LZc(X):\n",
    " '''\n",
    " Compute LZc and use shuffled result as normalization\n",
    " '''\n",
    " X=Pre2(X)\n",
    " SC=str_col(X)\n",
    " M=list(SC)\n",
    " shuffle(M)\n",
    " w=''\n",
    " for i in range(len(M)):\n",
    "  w+=M[i]\n",
    " return cpr(SC)/float(cpr(w))\n",
    "\n",
    "def Pre2(X):\n",
    " '''\n",
    " Linear-detrend and subtract mean of X, a multidimensional times series (channels x observations)\n",
    " '''\n",
    " ro,co=shape(X)\n",
    " Z=zeros((ro,co))\n",
    " for i in range(ro): #maybe divide by std?\n",
    "  Z[i,:]=signal.detrend((X[i,:]-mean(X[i,:]))/std(X[i,:]), axis=0)\n",
    " return Z\n",
    " \n",
    "  \n",
    "\n",
    "\n",
    "def LZs(x):\n",
    " \n",
    " '''\n",
    " Lempel ziv complexity of single timeseries\n",
    " '''\n",
    " \n",
    " ro,co=np.shape(x)\n",
    " x=signal.detrend((x-mean(x))/std(x), axis=0)\n",
    " s=''\n",
    " r=abs(hilbert(x))\n",
    " th=mean(r)\n",
    " \n",
    " for j in range(co):\n",
    "  if r[0,j]>th:\n",
    "   s+='1'\n",
    "  else:\n",
    "   s+='0'\n",
    " \n",
    " M=list(s)\n",
    " shuffle(M)\n",
    " w=''\n",
    " for i in range(len(M)):\n",
    "  w+=M[i]\n",
    " \n",
    " return cpr(s)/float(cpr(w))\n",
    "\n",
    "  \n",
    "def cpr(string):\n",
    " '''\n",
    " Lempel-Ziv-Welch compression of binary input string, e.g. string='0010101'. It outputs the size of the dictionary of binary words.\n",
    " '''\n",
    " d={}\n",
    " w = ''\n",
    " for c in string:\n",
    "  wc = w + c\n",
    "  if wc in d:\n",
    "   w = wc\n",
    "  else:\n",
    "   d[wc]=wc   \n",
    "   w = c\n",
    " return len(d)\n",
    "\n",
    "def PSpec(X):\n",
    " '''\n",
    " X: multidimensional time series, ch x obs\n",
    " fs: sampling rate in Hz\n",
    " '''\n",
    " \n",
    " \n",
    " def find_closest(A, target):\n",
    "   '''\n",
    "   helper function\n",
    "   '''\n",
    "   #A must be sorted\n",
    "   idx = A.searchsorted(target)\n",
    "   idx = np.clip(idx, 1, len(A)-1)\n",
    "   left = A[idx-1]\n",
    "   right = A[idx]\n",
    "   idx -= target - left < right - target\n",
    "   return idx\n",
    " \n",
    " \n",
    " fs=1024\n",
    " \n",
    " de=[1,4]# in Hz\n",
    " th=[4,8]\n",
    " al=[8,13]\n",
    " be=[13,30]\n",
    "# ga=[30,60]\n",
    "# hga=[60,120]\n",
    " \n",
    " F=[de,th,al,be]#,ga,hga]\n",
    " \n",
    " ro,co=shape(X)\n",
    " Q=[]\n",
    " \n",
    " for i in range(ro):\n",
    " \n",
    "  v=X[i]\n",
    "  co=len(v)  \n",
    "  N = co # Number of samplepoints  \n",
    "  T = 1.0 / fs # sample spacing (denominator in Hz)\n",
    "  y = v\n",
    "  yf = fft(y)\n",
    "  xf = np.linspace(0.0, 1.0/(2.0*T), int(N/2))\n",
    "  yff=2.0/N * np.abs(yf[0:int(N/2)])\n",
    "  bands=zeros(len(F))\n",
    "  for i in range(len(F)):\n",
    "   bands[i]=sum(yff[find_closest(xf, F[i][0]):find_closest(xf, F[i][1])])\n",
    "  bands=bands/sum(bands)\n",
    "  Q.append(bands)\n",
    " return Q\n",
    "\n",
    "\n",
    " \n",
    "def str_col(X):\n",
    " '''\n",
    " Input: Continuous multidimensional time series\n",
    " Output: One string being the binarized input matrix concatenated comlumn-by-column\n",
    " '''\n",
    " ro,co=shape(X)\n",
    " TH=zeros(ro)\n",
    " M=zeros((ro,co))\n",
    " for i in range(ro):\n",
    "  M[i,:]=abs(hilbert(X[i,:]))\n",
    "  TH[i]=mean(M[i,:])\n",
    " \n",
    " s=''\n",
    " for j in range(co):\n",
    "  for i in range(ro):\n",
    "   if M[i,j]>TH[i]:\n",
    "    s+='1'\n",
    "   else:\n",
    "    s+='0'\n",
    " \n",
    " return s\n",
    " \n",
    " "
   ]
  },
  {
   "cell_type": "code",
   "execution_count": 3,
   "metadata": {},
   "outputs": [
    {
     "name": "stdout",
     "output_type": "stream",
     "text": [
      "Extracting parameters from 01/pilot_1_ICA_11.set...\n",
      "5 matching events found\n",
      "No baseline correction applied\n",
      "Not setting metadata\n",
      "0 projection items activated\n",
      "Ready.\n",
      "Extracting parameters from 01/pilot_1_ICA_12.set...\n",
      "6 matching events found\n",
      "No baseline correction applied\n",
      "Not setting metadata\n",
      "0 projection items activated\n",
      "Ready.\n",
      "Extracting parameters from 01/pilot_1_ICA_13.set...\n",
      "6 matching events found\n",
      "No baseline correction applied\n",
      "Not setting metadata\n",
      "0 projection items activated\n",
      "Ready.\n",
      "Extracting parameters from 01/pilot_1_ICA_21.set...\n",
      "6 matching events found\n",
      "No baseline correction applied\n",
      "Not setting metadata\n",
      "0 projection items activated\n",
      "Ready.\n",
      "Extracting parameters from 01/pilot_1_ICA_22.set...\n",
      "6 matching events found\n",
      "No baseline correction applied\n",
      "Not setting metadata\n",
      "0 projection items activated\n",
      "Ready.\n",
      "Extracting parameters from 01/pilot_1_ICA_23.set...\n",
      "6 matching events found\n",
      "No baseline correction applied\n",
      "Not setting metadata\n",
      "0 projection items activated\n",
      "Ready.\n",
      "Extracting parameters from 01/pilot_1_ICA_31.set...\n",
      "4 matching events found\n",
      "No baseline correction applied\n",
      "Not setting metadata\n",
      "0 projection items activated\n",
      "Ready.\n",
      "Extracting parameters from 01/pilot_1_ICA_32.set...\n",
      "6 matching events found\n",
      "No baseline correction applied\n",
      "Not setting metadata\n",
      "0 projection items activated\n",
      "Ready.\n",
      "Extracting parameters from 01/pilot_1_ICA_33.set...\n",
      "6 matching events found\n",
      "No baseline correction applied\n",
      "Not setting metadata\n",
      "0 projection items activated\n",
      "Ready.\n",
      "Extracting parameters from 02/pilot_2_ICA_11.set...\n",
      "44 matching events found\n",
      "No baseline correction applied\n",
      "Not setting metadata\n",
      "0 projection items activated\n",
      "Ready.\n",
      "Extracting parameters from 02/pilot_2_ICA_12.set...\n",
      "56 matching events found\n",
      "No baseline correction applied\n",
      "Not setting metadata\n",
      "0 projection items activated\n",
      "Ready.\n",
      "Extracting parameters from 02/pilot_2_ICA_13.set...\n",
      "49 matching events found\n",
      "No baseline correction applied\n",
      "Not setting metadata\n",
      "0 projection items activated\n",
      "Ready.\n",
      "Extracting parameters from 02/pilot_2_ICA_21.set...\n",
      "47 matching events found\n",
      "No baseline correction applied\n",
      "Not setting metadata\n",
      "0 projection items activated\n",
      "Ready.\n",
      "Extracting parameters from 02/pilot_2_ICA_22.set...\n",
      "46 matching events found\n",
      "No baseline correction applied\n",
      "Not setting metadata\n",
      "0 projection items activated\n",
      "Ready.\n",
      "Extracting parameters from 02/pilot_2_ICA_23.set...\n",
      "46 matching events found\n",
      "No baseline correction applied\n",
      "Not setting metadata\n",
      "0 projection items activated\n",
      "Ready.\n",
      "Extracting parameters from 02/pilot_2_ICA_31.set...\n",
      "48 matching events found\n",
      "No baseline correction applied\n",
      "Not setting metadata\n",
      "0 projection items activated\n",
      "Ready.\n",
      "Extracting parameters from 02/pilot_2_ICA_32.set...\n",
      "44 matching events found\n",
      "No baseline correction applied\n",
      "Not setting metadata\n",
      "0 projection items activated\n",
      "Ready.\n",
      "Extracting parameters from 02/pilot_2_ICA_33.set...\n",
      "51 matching events found\n",
      "No baseline correction applied\n",
      "Not setting metadata\n",
      "0 projection items activated\n",
      "Ready.\n"
     ]
    }
   ],
   "source": [
    "# Index variable for list and file saving\n",
    "i = 0 \n",
    "\n",
    "for y in subject_number:    \n",
    "    for x in condition:        \n",
    "        # Reset temp variables \n",
    "        LZC_temp = 0\n",
    "        LZS_temp = 0\n",
    "        # Loading indivdual epoched files\n",
    "        filename = \"0%s/pilot_%s_ICA_%s.set\" % (y,y,x)\n",
    "        data_file = mne.io.read_epochs_eeglab(filename)\n",
    "        n_epochs = len(data_file)\n",
    "        for index in range(n_epochs):\n",
    "            fullset = np.reshape(data_file[index].get_data(),(64,4096))            \n",
    "            specific_chandata = np.reshape(data_file[index].get_data(picks = 31),(1,4096))\n",
    "            LZC_temp = LZC_temp + LZc(fullset)\n",
    "            LZS_temp = LZS_temp + LZs(specific_chandata)\n",
    "        \n",
    "        # Assigning the data\n",
    "        data [i,0] = y\n",
    "        data [i,1] = x\n",
    "        data [i,2] = LZC_temp / n_epochs\n",
    "        data [i,3] = LZS_temp / n_epochs\n",
    "        data [i,4] = n_epochs\n",
    "        \n",
    "        i = i+1"
   ]
  },
  {
   "cell_type": "code",
   "execution_count": 4,
   "metadata": {},
   "outputs": [],
   "source": [
    "# Saving the data to CSV file\n",
    "\n",
    "np.savetxt('LZ_data.csv', data, delimiter =',',header = \"participant,condition,LZC,LZS,N_epochs\" )"
   ]
  },
  {
   "cell_type": "code",
   "execution_count": null,
   "metadata": {},
   "outputs": [],
   "source": [
    "# Scratch Code below this point "
   ]
  },
  {
   "cell_type": "code",
   "execution_count": 2,
   "metadata": {},
   "outputs": [
    {
     "name": "stdout",
     "output_type": "stream",
     "text": [
      "18\n",
      "(18, 5)\n"
     ]
    }
   ],
   "source": [
    "# Looking at the shape of the array \n",
    "print(array_len)\n",
    "print(np.shape(data))"
   ]
  },
  {
   "cell_type": "code",
   "execution_count": null,
   "metadata": {},
   "outputs": [],
   "source": [
    "#Data test \n",
    "print (LZC_data)\n",
    "print (LZS_data)\n",
    "\n",
    "#ZZ = PSpec(data_file.get_data(picks = 31))\n",
    "#LZC_data[0] = 'val'\n",
    "#LZS_data[0] = 'val'\n",
    "\n",
    "#print(ZZ)"
   ]
  },
  {
   "cell_type": "code",
   "execution_count": null,
   "metadata": {},
   "outputs": [],
   "source": [
    "data_file = mne.io.read_raw_eeglab(\"21/021_43_ICA.set\")\n",
    "\n",
    "LZC_temp = LZc(data_file)\n",
    "LZS_temp = LZs(data_file.get_data(picks = 31))\n",
    "\n",
    "\n",
    "print(LZC_temp)\n",
    "print(LZS_temp)"
   ]
  },
  {
   "cell_type": "code",
   "execution_count": null,
   "metadata": {},
   "outputs": [],
   "source": [
    "print(fullset)"
   ]
  },
  {
   "cell_type": "code",
   "execution_count": null,
   "metadata": {},
   "outputs": [],
   "source": [
    "fl.LZc(fullset)"
   ]
  },
  {
   "cell_type": "code",
   "execution_count": null,
   "metadata": {},
   "outputs": [],
   "source": [
    "np.savetxt('test.txt',np.squeeze(fullset, axis=0), delimiter =',') "
   ]
  },
  {
   "cell_type": "code",
   "execution_count": 23,
   "metadata": {},
   "outputs": [
    {
     "data": {
      "text/plain": [
       "(1, 64, 4096)"
      ]
     },
     "execution_count": 23,
     "metadata": {},
     "output_type": "execute_result"
    }
   ],
   "source": [
    "np.shape(fullset)\n",
    "#np.squeeze(specific_chandata, axis=0).shape"
   ]
  },
  {
   "cell_type": "code",
   "execution_count": null,
   "metadata": {},
   "outputs": [],
   "source": [
    "print(np.squeeze(fullset, axis=0))"
   ]
  },
  {
   "cell_type": "code",
   "execution_count": 35,
   "metadata": {},
   "outputs": [
    {
     "name": "stdout",
     "output_type": "stream",
     "text": [
      "Extracting parameters from 02/pilot_2_ICA_11.set...\n",
      "44 matching events found\n",
      "No baseline correction applied\n",
      "Not setting metadata\n",
      "0 projection items activated\n",
      "Ready.\n"
     ]
    }
   ],
   "source": [
    "filename = \"02/pilot_2_ICA_11.set\"\n",
    "data_file = mne.io.read_epochs_eeglab(filename)\n",
    "LZC_temp = 0\n",
    "n_epochs = len(data_file)\n",
    "test = np.zeros(n_epochs)\n",
    "for index in range(n_epochs):\n",
    "    fullset = np.reshape(data_file[index].get_data(),(64,4096))\n",
    "    LZC_check = LZc(fullset)\n",
    "    test[index] = LZC_check\n",
    "    LZC_temp = LZC_temp + LZc(specific_chandata)\n",
    "    \n",
    "lzz = LZC_temp / n_epochs"
   ]
  },
  {
   "cell_type": "code",
   "execution_count": 36,
   "metadata": {},
   "outputs": [
    {
     "name": "stdout",
     "output_type": "stream",
     "text": [
      "[0.09775518 0.09742043 0.09721098 0.09594758 0.09667551 0.09822917\n",
      " 0.09631562 0.09646953 0.09914161 0.09716727 0.09539873 0.09617378\n",
      " 0.09797662 0.09495723 0.09786181 0.09745896 0.09748852 0.09606731\n",
      " 0.09822592 0.09873213 0.09589226 0.09834592 0.09571017 0.09621267\n",
      " 0.09478652 0.09598164 0.09834299 0.0966785  0.09624107 0.09688877\n",
      " 0.09737575 0.09746124 0.09695689 0.09804538 0.09974804 0.09605712\n",
      " 0.09620322 0.09722222 0.0960734  0.09714851 0.09630761 0.09679603\n",
      " 0.09817249 0.09563456]\n"
     ]
    }
   ],
   "source": [
    "print(test)"
   ]
  },
  {
   "cell_type": "code",
   "execution_count": 39,
   "metadata": {},
   "outputs": [
    {
     "name": "stdout",
     "output_type": "stream",
     "text": [
      "0.9568498208261843\n"
     ]
    }
   ],
   "source": [
    "print(lzz)"
   ]
  },
  {
   "cell_type": "code",
   "execution_count": 34,
   "metadata": {},
   "outputs": [],
   "source": [
    "test = 0"
   ]
  },
  {
   "cell_type": "code",
   "execution_count": 38,
   "metadata": {},
   "outputs": [
    {
     "name": "stdout",
     "output_type": "stream",
     "text": [
      "0.09697629274309509\n"
     ]
    }
   ],
   "source": [
    "print(np.mean(test))"
   ]
  },
  {
   "cell_type": "code",
   "execution_count": null,
   "metadata": {},
   "outputs": [],
   "source": []
  }
 ],
 "metadata": {
  "kernelspec": {
   "display_name": "Python 3",
   "language": "python",
   "name": "python3"
  },
  "language_info": {
   "codemirror_mode": {
    "name": "ipython",
    "version": 3
   },
   "file_extension": ".py",
   "mimetype": "text/x-python",
   "name": "python",
   "nbconvert_exporter": "python",
   "pygments_lexer": "ipython3",
   "version": "3.7.9"
  }
 },
 "nbformat": 4,
 "nbformat_minor": 4
}
