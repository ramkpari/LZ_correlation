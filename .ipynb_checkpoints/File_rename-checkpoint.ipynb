{
 "cells": [
  {
   "cell_type": "raw",
   "metadata": {},
   "source": [
    "Load , rename and save all images in a particular folder. Based on the visual noise image production code "
   ]
  },
  {
   "cell_type": "code",
   "execution_count": 1,
   "metadata": {},
   "outputs": [],
   "source": [
    "# Initiallization \n",
    "\n",
    "import os\n",
    "import glob\n",
    "from PIL import Image\n",
    "import imageio"
   ]
  },
  {
   "cell_type": "code",
   "execution_count": 2,
   "metadata": {},
   "outputs": [],
   "source": [
    "# Loading file with specified criteria using Glob. Path included in criteria\n",
    "\n",
    "mylist = [f for f in glob.glob(r\"C:\\Users\\Ram\\OneDrive - University of Sussex\\Desktop\\LZ correlation\\LZ_correlation\\images\\*.*\")]\n",
    "#print(mylist)\n",
    "\n",
    "loop_len = range(len(mylist))\n",
    "\n",
    "#print(len(mylist))\n",
    "\n",
    "# File path where all the files need to be saved in \n",
    "final_filepath = r\"C:\\Users\\Ram\\OneDrive - University of Sussex\\Desktop\\LZ correlation\\LZ_correlation\\LZ_natural\""
   ]
  },
  {
   "cell_type": "code",
   "execution_count": 3,
   "metadata": {},
   "outputs": [],
   "source": [
    "# Recursive loop to load and save images accordingly\n",
    "\n",
    "\n",
    "for x in loop_len:\n",
    "    \n",
    "    img = Image.open(mylist[x])\n",
    "    final_filename = \"%s/LZ_natural_%s.jpg\" % (final_filepath,x+1)\n",
    "    imageio.imwrite(final_filename, img)"
   ]
  },
  {
   "cell_type": "code",
   "execution_count": null,
   "metadata": {},
   "outputs": [],
   "source": []
  }
 ],
 "metadata": {
  "kernelspec": {
   "display_name": "Python 3",
   "language": "python",
   "name": "python3"
  },
  "language_info": {
   "codemirror_mode": {
    "name": "ipython",
    "version": 3
   },
   "file_extension": ".py",
   "mimetype": "text/x-python",
   "name": "python",
   "nbconvert_exporter": "python",
   "pygments_lexer": "ipython3",
   "version": "3.7.9"
  }
 },
 "nbformat": 4,
 "nbformat_minor": 4
}
