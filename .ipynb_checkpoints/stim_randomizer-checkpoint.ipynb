{
 "cells": [
  {
   "cell_type": "markdown",
   "metadata": {},
   "source": [
    "Stimulation presentation order csv file for ujse with the LZ correlation experiment with Psychopy.\n",
    "\n",
    "Outputs CSV files with a randomized structure for stimulus presentation.\n",
    "\n",
    "Uses rank in a loaded list for randomization. Randomization conditions used \n",
    "-> No repeat in simultaneous trial\n",
    "\n",
    "Keys used for the forced choice task are A,Z,K,M. A for Top-Left , Z for Bottom Left , K for Top right , M for Bottom Right.\n",
    "\n",
    "Randomization seed for each run is matched to the participant number. TBD"
   ]
  },
  {
   "cell_type": "code",
   "execution_count": null,
   "metadata": {},
   "outputs": [],
   "source": [
    "# Initiallization \n",
    "\n",
    "import os\n",
    "import glob\n",
    "from PIL import Image\n",
    "import imageio\n",
    "import random\n",
    "import numpy as np\n",
    "\n",
    "# Storage array for stimulus paths\n",
    "stim_present_data = np.zeros((181,5),dtype = 'U120')\n",
    "stim_choice_data = np.zeros((181,6),dtype = 'U120')\n"
   ]
  },
  {
   "cell_type": "code",
   "execution_count": 24,
   "metadata": {},
   "outputs": [],
   "source": [
    "# Loading file with specified criteria using Glob. Path included in criteria. Three paths used due to three sets of stimuli to be used.\n",
    "\n",
    "stim_list_natural = [f for f in glob.glob(r\"C:\\Users\\Ram\\OneDrive - University of Sussex\\Desktop\\LZ correlation\\LZ_correlation\\natural\\*.*\")]\n",
    "stim_list_scrambled = [f for f in glob.glob(r\"C:\\Users\\Ram\\OneDrive - University of Sussex\\Desktop\\LZ correlation\\LZ_correlation\\final_scrambled\\*.*\")]\n",
    "stim_list_noise = [f for f in glob.glob(r\"C:\\Users\\Ram\\OneDrive - University of Sussex\\Desktop\\LZ correlation\\LZ_correlation\\noise\\*.*\")]\n",
    "\n",
    "\n",
    "# Shuffling the lists for randomised order\n",
    "np.random.shuffle(stim_list_natural)\n",
    "np.random.shuffle(stim_list_scrambled)\n",
    "np.random.shuffle(stim_list_natural)\n",
    "\n",
    "loop_len_natural = range(len(stim_list_natural))\n",
    "loop_len_scrambled = range(len(stim_list_scrambled))\n",
    "loop_len_noise = range(len(stim_list_noise))\n",
    "\n",
    "# Number of blocks \n",
    "block_count = 4 \n",
    "\n",
    "# Global limits for each condition variable. Both type of stimuli and presentation frequency of stimuli. (3x4 experimental design)\n",
    "limit_natural = 240\n",
    "limit_scrambled = 240\n",
    "limit_noise = 240\n",
    "limit_onehz = 180\n",
    "limit_twohz = 180\n",
    "limit_threehz = 180\n",
    "limit_fourhz = 180 \n",
    "\n",
    "\n",
    "#Sanity checks\n",
    "#print(len(stim_list_noise))\n",
    "\n",
    "# Test number . 180 (+1) for indexing sake\n",
    "trial_len = 181\n",
    "\n",
    "# File path for CSV file output\n",
    "final_filepath = r\"C:\\Users\\Ram\\OneDrive - University of Sussex\\Desktop\\LZ correlation\\LZ_correlation\""
   ]
  },
  {
   "cell_type": "code",
   "execution_count": null,
   "metadata": {},
   "outputs": [],
   "source": [
    "#Scratch\n",
    "\n",
    "stim_present_data [1,1] = random.choice(stim_list_natural)\n",
    "stim_present_data"
   ]
  },
  {
   "cell_type": "code",
   "execution_count": null,
   "metadata": {},
   "outputs": [],
   "source": [
    "#Recursive loops to create the file structure\n",
    "\n",
    "# Block structure control \n",
    "# for a in block_count\n",
    "\n",
    "\n",
    "for x in trial_len:\n",
    "    # Main loop to decide to type of stimulus. 1- Natural , 2- Scrambled and 3- Noise\n",
    "    stim_type_choice = random.choice([1,2,3])\n",
    "    "
   ]
  },
  {
   "cell_type": "code",
   "execution_count": null,
   "metadata": {},
   "outputs": [],
   "source": []
  }
 ],
 "metadata": {
  "kernelspec": {
   "display_name": "Python 3",
   "language": "python",
   "name": "python3"
  },
  "language_info": {
   "codemirror_mode": {
    "name": "ipython",
    "version": 3
   },
   "file_extension": ".py",
   "mimetype": "text/x-python",
   "name": "python",
   "nbconvert_exporter": "python",
   "pygments_lexer": "ipython3",
   "version": "3.7.9"
  }
 },
 "nbformat": 4,
 "nbformat_minor": 4
}
